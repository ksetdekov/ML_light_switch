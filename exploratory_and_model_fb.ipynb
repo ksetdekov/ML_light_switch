{
  "nbformat": 4,
  "nbformat_minor": 0,
  "metadata": {
    "colab": {
      "name": "exploratory_and_model_fb.ipynb",
      "provenance": [],
      "authorship_tag": "ABX9TyM7y7yM64cZgh0zY8zHzUly",
      "include_colab_link": true
    },
    "kernelspec": {
      "name": "python3",
      "display_name": "Python 3"
    },
    "language_info": {
      "name": "python"
    }
  },
  "cells": [
    {
      "cell_type": "markdown",
      "metadata": {
        "id": "view-in-github",
        "colab_type": "text"
      },
      "source": [
        "<a href=\"https://colab.research.google.com/github/ksetdekov/ML_light_switch/blob/time_series_modelling/exploratory_and_model_fb.ipynb\" target=\"_parent\"><img src=\"https://colab.research.google.com/assets/colab-badge.svg\" alt=\"Open In Colab\"/></a>"
      ]
    },
    {
      "cell_type": "code",
      "metadata": {
        "id": "TH69kVeY66ME"
      },
      "source": [
        "import pandas as pd\n",
        "from sqlalchemy import create_engine\n",
        "import seaborn as sns\n",
        "import numpy as np\n",
        "from fbprophet import Prophet\n",
        "from sklearn.model_selection import train_test_split\n"
      ],
      "execution_count": null,
      "outputs": []
    },
    {
      "cell_type": "code",
      "metadata": {
        "colab": {
          "base_uri": "https://localhost:8080/",
          "height": 204
        },
        "id": "DhwYWslz_JEj",
        "outputId": "34edebea-77e8-40cc-9642-92293fbd3e19"
      },
      "source": [
        "engine = create_engine('sqlite:///temperature.db')\n",
        "# engine = create_engine('sqlite:////content/temperature (1).db')\n",
        "data = pd.read_sql_table(\"timelog\", engine)\n",
        "data.tail()"
      ],
      "execution_count": null,
      "outputs": [
        {
          "output_type": "execute_result",
          "data": {
            "text/html": [
              "<div>\n",
              "<style scoped>\n",
              "    .dataframe tbody tr th:only-of-type {\n",
              "        vertical-align: middle;\n",
              "    }\n",
              "\n",
              "    .dataframe tbody tr th {\n",
              "        vertical-align: top;\n",
              "    }\n",
              "\n",
              "    .dataframe thead th {\n",
              "        text-align: right;\n",
              "    }\n",
              "</style>\n",
              "<table border=\"1\" class=\"dataframe\">\n",
              "  <thead>\n",
              "    <tr style=\"text-align: right;\">\n",
              "      <th></th>\n",
              "      <th>stamp</th>\n",
              "      <th>temp</th>\n",
              "      <th>hum</th>\n",
              "      <th>plug</th>\n",
              "      <th>heater</th>\n",
              "    </tr>\n",
              "  </thead>\n",
              "  <tbody>\n",
              "    <tr>\n",
              "      <th>8295724</th>\n",
              "      <td>2021-05-26 11:54:12.172836</td>\n",
              "      <td>26.4</td>\n",
              "      <td>29.700001</td>\n",
              "      <td>1.0</td>\n",
              "      <td>0.0</td>\n",
              "    </tr>\n",
              "    <tr>\n",
              "      <th>8295725</th>\n",
              "      <td>2021-05-26 11:54:13.796678</td>\n",
              "      <td>26.4</td>\n",
              "      <td>29.700001</td>\n",
              "      <td>1.0</td>\n",
              "      <td>0.0</td>\n",
              "    </tr>\n",
              "    <tr>\n",
              "      <th>8295726</th>\n",
              "      <td>2021-05-26 11:54:15.421471</td>\n",
              "      <td>26.4</td>\n",
              "      <td>29.700001</td>\n",
              "      <td>1.0</td>\n",
              "      <td>0.0</td>\n",
              "    </tr>\n",
              "    <tr>\n",
              "      <th>8295727</th>\n",
              "      <td>2021-05-26 11:54:17.093325</td>\n",
              "      <td>26.4</td>\n",
              "      <td>29.700001</td>\n",
              "      <td>1.0</td>\n",
              "      <td>0.0</td>\n",
              "    </tr>\n",
              "    <tr>\n",
              "      <th>8295728</th>\n",
              "      <td>2021-05-26 11:54:24.352203</td>\n",
              "      <td>26.4</td>\n",
              "      <td>29.700001</td>\n",
              "      <td>1.0</td>\n",
              "      <td>0.0</td>\n",
              "    </tr>\n",
              "  </tbody>\n",
              "</table>\n",
              "</div>"
            ],
            "text/plain": [
              "                              stamp  temp        hum  plug  heater\n",
              "8295724  2021-05-26 11:54:12.172836  26.4  29.700001   1.0     0.0\n",
              "8295725  2021-05-26 11:54:13.796678  26.4  29.700001   1.0     0.0\n",
              "8295726  2021-05-26 11:54:15.421471  26.4  29.700001   1.0     0.0\n",
              "8295727  2021-05-26 11:54:17.093325  26.4  29.700001   1.0     0.0\n",
              "8295728  2021-05-26 11:54:24.352203  26.4  29.700001   1.0     0.0"
            ]
          },
          "metadata": {
            "tags": []
          },
          "execution_count": 2
        }
      ]
    },
    {
      "cell_type": "code",
      "metadata": {
        "id": "xC16bvi0F7_V"
      },
      "source": [
        "data['stamp'] = pd.to_datetime(data['stamp'])"
      ],
      "execution_count": null,
      "outputs": []
    },
    {
      "cell_type": "markdown",
      "metadata": {
        "id": "7xwRjU6hF5vc"
      },
      "source": [
        "# explore"
      ]
    },
    {
      "cell_type": "code",
      "metadata": {
        "colab": {
          "base_uri": "https://localhost:8080/"
        },
        "id": "kT1QS0WfEy5u",
        "outputId": "32bca287-6d8b-49e0-b801-a29b0ded18d9"
      },
      "source": [
        "%matplotlib inline\n",
        "data.groupby(data['stamp'].dt.month).size().plot(kind = 'bar')"
      ],
      "execution_count": null,
      "outputs": [
        {
          "output_type": "execute_result",
          "data": {
            "text/plain": [
              "<matplotlib.axes._subplots.AxesSubplot at 0x7f9e9c612ed0>"
            ]
          },
          "metadata": {
            "tags": []
          },
          "execution_count": 4
        },
        {
          "output_type": "display_data",
          "data": {
            "image/png": "[encoded data removed]",
            "text/plain": [
              "<Figure size 432x288 with 1 Axes>"
            ]
          },
          "metadata": {
            "tags": [],
            "needs_background": "light"
          }
        }
      ]
    },
    {
      "cell_type": "code",
      "metadata": {
        "colab": {
          "base_uri": "https://localhost:8080/",
          "height": 269
        },
        "id": "SY0U-YriF8c1",
        "outputId": "ccdc2a34-a723-40ea-aae9-2112b57d8442"
      },
      "source": [
        "cols = data.columns[:30] # первые 30 колонок\n",
        "# определяем цвета \n",
        "# желтый - пропущенные данные, синий - не пропущенные\n",
        "colors = ['#000099', '#ffff00'] \n",
        "a = sns.heatmap(data[cols].isnull(), cmap=sns.color_palette(colors))"
      ],
      "execution_count": null,
      "outputs": [
        {
          "output_type": "display_data",
          "data": {
            "image/png": "[encoded data removed]",
            "text/plain": [
              "<Figure size 432x288 with 2 Axes>"
            ]
          },
          "metadata": {
            "tags": [],
            "needs_background": "light"
          }
        }
      ]
    },
    {
      "cell_type": "code",
      "metadata": {
        "colab": {
          "base_uri": "https://localhost:8080/"
        },
        "id": "GHghrupbGJ7X",
        "outputId": "1e13b263-a142-48ce-83b0-b0be448e2279"
      },
      "source": [
        "data[\"temp\"].isnull().mean()"
      ],
      "execution_count": null,
      "outputs": [
        {
          "output_type": "execute_result",
          "data": {
            "text/plain": [
              "2.4108791403383595e-07"
            ]
          },
          "metadata": {
            "tags": []
          },
          "execution_count": 6
        }
      ]
    },
    {
      "cell_type": "code",
      "metadata": {
        "colab": {
          "base_uri": "https://localhost:8080/"
        },
        "id": "0n5dsxovGO3U",
        "outputId": "26eae913-60ae-45b1-efd6-400870c6d14b"
      },
      "source": [
        "# сначала создаем индикатор для признаков с пропущенными данными\n",
        "for col in data.columns:\n",
        "    missing = data[col].isnull()\n",
        "    num_missing = np.sum(missing)\n",
        "    \n",
        "    if num_missing > 0:  \n",
        "#         print('created missing indicator for: {}'.format(col))\n",
        "        data['{}_ismissing'.format(col)] = missing\n",
        "        \n",
        "# затем на основе индикатора строим гистограмму\n",
        "ismissing_cols = [col for col in data.columns if 'ismissing' in col]\n",
        "data['num_missing'] = data[ismissing_cols].sum(axis=1)\n",
        "u = data['num_missing'].value_counts().reset_index().sort_values(by='index').plot.bar(x='index')"
      ],
      "execution_count": null,
      "outputs": [
        {
          "output_type": "display_data",
          "data": {
            "image/png": "[encoded data removed]",
            "text/plain": [
              "<Figure size 432x288 with 1 Axes>"
            ]
          },
          "metadata": {
            "tags": [],
            "needs_background": "light"
          }
        }
      ]
    },
    {
      "cell_type": "code",
      "metadata": {
        "colab": {
          "base_uri": "https://localhost:8080/"
        },
        "id": "t0z4PNBXGTxc",
        "outputId": "58d85c5d-ac7a-4de0-f5af-377a678338f8"
      },
      "source": [
        "data.num_missing.mean()"
      ],
      "execution_count": null,
      "outputs": [
        {
          "output_type": "execute_result",
          "data": {
            "text/plain": [
              "0.004060523192114882"
            ]
          },
          "metadata": {
            "tags": []
          },
          "execution_count": 8
        }
      ]
    },
    {
      "cell_type": "code",
      "metadata": {
        "colab": {
          "base_uri": "https://localhost:8080/"
        },
        "id": "_C508JkQGbP4",
        "outputId": "33776077-aa45-42bb-bdcf-ccb8c8ddca0f"
      },
      "source": [
        "data.boxplot(column=['hum'])"
      ],
      "execution_count": null,
      "outputs": [
        {
          "output_type": "execute_result",
          "data": {
            "text/plain": [
              "<matplotlib.axes._subplots.AxesSubplot at 0x7f9e9bed6090>"
            ]
          },
          "metadata": {
            "tags": []
          },
          "execution_count": 9
        },
        {
          "output_type": "display_data",
          "data": {
            "image/png": "[encoded data removed]",
            "text/plain": [
              "<Figure size 432x288 with 1 Axes>"
            ]
          },
          "metadata": {
            "tags": [],
            "needs_background": "light"
          }
        }
      ]
    },
    {
      "cell_type": "code",
      "metadata": {
        "colab": {
          "base_uri": "https://localhost:8080/"
        },
        "id": "42aLl63KH9dI",
        "outputId": "594260d3-6463-40dc-8c48-fff6105371df"
      },
      "source": [
        "misscount = data.isna().sum()\n",
        "misscount[misscount>0]"
      ],
      "execution_count": null,
      "outputs": [
        {
          "output_type": "execute_result",
          "data": {
            "text/plain": [
              "temp          2\n",
              "hum           2\n",
              "plug      32653\n",
              "heater     1028\n",
              "dtype: int64"
            ]
          },
          "metadata": {
            "tags": []
          },
          "execution_count": 10
        }
      ]
    },
    {
      "cell_type": "code",
      "metadata": {
        "colab": {
          "base_uri": "https://localhost:8080/"
        },
        "id": "V2xqoBo7IALn",
        "outputId": "ddf6fa7d-ead8-4120-b232-d83cd6ef254e"
      },
      "source": [
        "data[data.plug_ismissing == True]"
      ],
      "execution_count": null,
      "outputs": [
        {
          "output_type": "execute_result",
          "data": {
            "text/html": [
              "<div>\n",
              "<style scoped>\n",
              "    .dataframe tbody tr th:only-of-type {\n",
              "        vertical-align: middle;\n",
              "    }\n",
              "\n",
              "    .dataframe tbody tr th {\n",
              "        vertical-align: top;\n",
              "    }\n",
              "\n",
              "    .dataframe thead th {\n",
              "        text-align: right;\n",
              "    }\n",
              "</style>\n",
              "<table border=\"1\" class=\"dataframe\">\n",
              "  <thead>\n",
              "    <tr style=\"text-align: right;\">\n",
              "      <th></th>\n",
              "      <th>stamp</th>\n",
              "      <th>temp</th>\n",
              "      <th>hum</th>\n",
              "      <th>plug</th>\n",
              "      <th>heater</th>\n",
              "      <th>temp_ismissing</th>\n",
              "      <th>hum_ismissing</th>\n",
              "      <th>plug_ismissing</th>\n",
              "      <th>heater_ismissing</th>\n",
              "      <th>num_missing</th>\n",
              "    </tr>\n",
              "  </thead>\n",
              "  <tbody>\n",
              "    <tr>\n",
              "      <th>325</th>\n",
              "      <td>2020-10-14 15:49:06.954412</td>\n",
              "      <td>26.000000</td>\n",
              "      <td>47.000000</td>\n",
              "      <td>NaN</td>\n",
              "      <td>1.0</td>\n",
              "      <td>False</td>\n",
              "      <td>False</td>\n",
              "      <td>True</td>\n",
              "      <td>False</td>\n",
              "      <td>1</td>\n",
              "    </tr>\n",
              "    <tr>\n",
              "      <th>326</th>\n",
              "      <td>2020-10-14 15:49:16.351531</td>\n",
              "      <td>26.000000</td>\n",
              "      <td>48.000000</td>\n",
              "      <td>NaN</td>\n",
              "      <td>1.0</td>\n",
              "      <td>False</td>\n",
              "      <td>False</td>\n",
              "      <td>True</td>\n",
              "      <td>False</td>\n",
              "      <td>1</td>\n",
              "    </tr>\n",
              "    <tr>\n",
              "      <th>327</th>\n",
              "      <td>2020-10-14 15:49:25.596830</td>\n",
              "      <td>26.000000</td>\n",
              "      <td>48.000000</td>\n",
              "      <td>NaN</td>\n",
              "      <td>1.0</td>\n",
              "      <td>False</td>\n",
              "      <td>False</td>\n",
              "      <td>True</td>\n",
              "      <td>False</td>\n",
              "      <td>1</td>\n",
              "    </tr>\n",
              "    <tr>\n",
              "      <th>328</th>\n",
              "      <td>2020-10-14 15:49:32.347595</td>\n",
              "      <td>26.000000</td>\n",
              "      <td>48.000000</td>\n",
              "      <td>NaN</td>\n",
              "      <td>1.0</td>\n",
              "      <td>False</td>\n",
              "      <td>False</td>\n",
              "      <td>True</td>\n",
              "      <td>False</td>\n",
              "      <td>1</td>\n",
              "    </tr>\n",
              "    <tr>\n",
              "      <th>348</th>\n",
              "      <td>2020-10-14 15:50:44.642289</td>\n",
              "      <td>26.000000</td>\n",
              "      <td>48.000000</td>\n",
              "      <td>NaN</td>\n",
              "      <td>1.0</td>\n",
              "      <td>False</td>\n",
              "      <td>False</td>\n",
              "      <td>True</td>\n",
              "      <td>False</td>\n",
              "      <td>1</td>\n",
              "    </tr>\n",
              "    <tr>\n",
              "      <th>...</th>\n",
              "      <td>...</td>\n",
              "      <td>...</td>\n",
              "      <td>...</td>\n",
              "      <td>...</td>\n",
              "      <td>...</td>\n",
              "      <td>...</td>\n",
              "      <td>...</td>\n",
              "      <td>...</td>\n",
              "      <td>...</td>\n",
              "      <td>...</td>\n",
              "    </tr>\n",
              "    <tr>\n",
              "      <th>8190128</th>\n",
              "      <td>2021-05-23 22:19:26.338102</td>\n",
              "      <td>25.299999</td>\n",
              "      <td>30.600000</td>\n",
              "      <td>NaN</td>\n",
              "      <td>0.0</td>\n",
              "      <td>False</td>\n",
              "      <td>False</td>\n",
              "      <td>True</td>\n",
              "      <td>False</td>\n",
              "      <td>1</td>\n",
              "    </tr>\n",
              "    <tr>\n",
              "      <th>8190129</th>\n",
              "      <td>2021-05-23 22:19:33.067454</td>\n",
              "      <td>25.299999</td>\n",
              "      <td>30.700001</td>\n",
              "      <td>NaN</td>\n",
              "      <td>0.0</td>\n",
              "      <td>False</td>\n",
              "      <td>False</td>\n",
              "      <td>True</td>\n",
              "      <td>False</td>\n",
              "      <td>1</td>\n",
              "    </tr>\n",
              "    <tr>\n",
              "      <th>8190130</th>\n",
              "      <td>2021-05-23 22:19:39.826101</td>\n",
              "      <td>25.299999</td>\n",
              "      <td>30.700001</td>\n",
              "      <td>NaN</td>\n",
              "      <td>0.0</td>\n",
              "      <td>False</td>\n",
              "      <td>False</td>\n",
              "      <td>True</td>\n",
              "      <td>False</td>\n",
              "      <td>1</td>\n",
              "    </tr>\n",
              "    <tr>\n",
              "      <th>8190131</th>\n",
              "      <td>2021-05-23 22:19:46.584291</td>\n",
              "      <td>25.299999</td>\n",
              "      <td>30.799999</td>\n",
              "      <td>NaN</td>\n",
              "      <td>0.0</td>\n",
              "      <td>False</td>\n",
              "      <td>False</td>\n",
              "      <td>True</td>\n",
              "      <td>False</td>\n",
              "      <td>1</td>\n",
              "    </tr>\n",
              "    <tr>\n",
              "      <th>8190132</th>\n",
              "      <td>2021-05-23 22:20:00.829523</td>\n",
              "      <td>25.299999</td>\n",
              "      <td>30.900000</td>\n",
              "      <td>NaN</td>\n",
              "      <td>0.0</td>\n",
              "      <td>False</td>\n",
              "      <td>False</td>\n",
              "      <td>True</td>\n",
              "      <td>False</td>\n",
              "      <td>1</td>\n",
              "    </tr>\n",
              "  </tbody>\n",
              "</table>\n",
              "<p>32653 rows × 10 columns</p>\n",
              "</div>"
            ],
            "text/plain": [
              "                             stamp       temp  ...  heater_ismissing  num_missing\n",
              "325     2020-10-14 15:49:06.954412  26.000000  ...             False            1\n",
              "326     2020-10-14 15:49:16.351531  26.000000  ...             False            1\n",
              "327     2020-10-14 15:49:25.596830  26.000000  ...             False            1\n",
              "328     2020-10-14 15:49:32.347595  26.000000  ...             False            1\n",
              "348     2020-10-14 15:50:44.642289  26.000000  ...             False            1\n",
              "...                            ...        ...  ...               ...          ...\n",
              "8190128 2021-05-23 22:19:26.338102  25.299999  ...             False            1\n",
              "8190129 2021-05-23 22:19:33.067454  25.299999  ...             False            1\n",
              "8190130 2021-05-23 22:19:39.826101  25.299999  ...             False            1\n",
              "8190131 2021-05-23 22:19:46.584291  25.299999  ...             False            1\n",
              "8190132 2021-05-23 22:20:00.829523  25.299999  ...             False            1\n",
              "\n",
              "[32653 rows x 10 columns]"
            ]
          },
          "metadata": {
            "tags": []
          },
          "execution_count": 11
        }
      ]
    },
    {
      "cell_type": "code",
      "metadata": {
        "colab": {
          "base_uri": "https://localhost:8080/"
        },
        "id": "uRb8JwwqIDBu",
        "outputId": "b196904b-b937-4aa3-f991-64901f5db83a"
      },
      "source": [
        "data.hum.hist()"
      ],
      "execution_count": null,
      "outputs": [
        {
          "output_type": "execute_result",
          "data": {
            "text/plain": [
              "<matplotlib.axes._subplots.AxesSubplot at 0x7f9e9b7aa390>"
            ]
          },
          "metadata": {
            "tags": []
          },
          "execution_count": 12
        },
        {
          "output_type": "display_data",
          "data": {
            "image/png": "[encoded data removed]",
            "text/plain": [
              "<Figure size 432x288 with 1 Axes>"
            ]
          },
          "metadata": {
            "tags": [],
            "needs_background": "light"
          }
        }
      ]
    },
    {
      "cell_type": "code",
      "metadata": {
        "colab": {
          "base_uri": "https://localhost:8080/"
        },
        "id": "AAMQoMBkImLA",
        "outputId": "93bd413c-bd26-4623-d491-04c2663562e2"
      },
      "source": [
        "data.temp.hist()"
      ],
      "execution_count": null,
      "outputs": [
        {
          "output_type": "execute_result",
          "data": {
            "text/plain": [
              "<matplotlib.axes._subplots.AxesSubplot at 0x7f9e9b7aa990>"
            ]
          },
          "metadata": {
            "tags": []
          },
          "execution_count": 13
        },
        {
          "output_type": "display_data",
          "data": {
            "image/png": "[encoded data removed]",
            "text/plain": [
              "<Figure size 432x288 with 1 Axes>"
            ]
          },
          "metadata": {
            "tags": [],
            "needs_background": "light"
          }
        }
      ]
    },
    {
      "cell_type": "code",
      "metadata": {
        "colab": {
          "base_uri": "https://localhost:8080/"
        },
        "id": "EWHiQ2tiIqWO",
        "outputId": "60904808-25fa-4417-cc06-c47944f82c38"
      },
      "source": [
        "data['hum'].mask(data['hum'].between(-np.inf, 0), inplace=True)\n",
        "data['hum'].mask(data['hum'].between(100, np.inf), inplace=True)\n",
        "\n",
        "data.hum.hist()"
      ],
      "execution_count": null,
      "outputs": [
        {
          "output_type": "execute_result",
          "data": {
            "text/plain": [
              "<matplotlib.axes._subplots.AxesSubplot at 0x7f9e9ad92110>"
            ]
          },
          "metadata": {
            "tags": []
          },
          "execution_count": 14
        },
        {
          "output_type": "display_data",
          "data": {
            "image/png": "[encoded data removed]",
            "text/plain": [
              "<Figure size 432x288 with 1 Axes>"
            ]
          },
          "metadata": {
            "tags": [],
            "needs_background": "light"
          }
        }
      ]
    },
    {
      "cell_type": "code",
      "metadata": {
        "colab": {
          "base_uri": "https://localhost:8080/"
        },
        "id": "Vos9rlGfJfWn",
        "outputId": "207d74e3-91fe-4eeb-8d1c-8c234ba4ed48"
      },
      "source": [
        "data['temp'].mask(data['temp'].between(-np.inf, 15), inplace=True)\n",
        "data['temp'].mask(data['temp'].between(40, np.inf), inplace=True)\n",
        "\n",
        "data.temp.hist()"
      ],
      "execution_count": null,
      "outputs": [
        {
          "output_type": "execute_result",
          "data": {
            "text/plain": [
              "<matplotlib.axes._subplots.AxesSubplot at 0x7f9e9a91f2d0>"
            ]
          },
          "metadata": {
            "tags": []
          },
          "execution_count": 15
        },
        {
          "output_type": "display_data",
          "data": {
            "image/png": "[encoded data removed]",
            "text/plain": [
              "<Figure size 432x288 with 1 Axes>"
            ]
          },
          "metadata": {
            "tags": [],
            "needs_background": "light"
          }
        }
      ]
    },
    {
      "cell_type": "code",
      "metadata": {
        "colab": {
          "base_uri": "https://localhost:8080/"
        },
        "id": "se1jMbSZJ3fw",
        "outputId": "c2fdd066-6bc1-4bd0-c045-fdbafeca8aa0"
      },
      "source": [
        "data=data.dropna()\n",
        "misscount = data.isna().sum()\n",
        "\n",
        "misscount[misscount>0]"
      ],
      "execution_count": null,
      "outputs": [
        {
          "output_type": "execute_result",
          "data": {
            "text/plain": [
              "Series([], dtype: int64)"
            ]
          },
          "metadata": {
            "tags": []
          },
          "execution_count": 16
        }
      ]
    },
    {
      "cell_type": "code",
      "metadata": {
        "id": "Oj4_FuH3KanR"
      },
      "source": [
        "y_plug = data.plug\n",
        "y_heater=data.heater\n",
        "data.drop(columns=['plug', 'heater'], inplace=True)"
      ],
      "execution_count": null,
      "outputs": []
    },
    {
      "cell_type": "code",
      "metadata": {
        "colab": {
          "base_uri": "https://localhost:8080/",
          "height": 609
        },
        "id": "1Sv4VAMCQmHn",
        "outputId": "f593b860-a771-4a7d-e243-83845b5a6ef7"
      },
      "source": [
        "data"
      ],
      "execution_count": null,
      "outputs": [
        {
          "output_type": "execute_result",
          "data": {
            "text/html": [
              "<div>\n",
              "<style scoped>\n",
              "    .dataframe tbody tr th:only-of-type {\n",
              "        vertical-align: middle;\n",
              "    }\n",
              "\n",
              "    .dataframe tbody tr th {\n",
              "        vertical-align: top;\n",
              "    }\n",
              "\n",
              "    .dataframe thead th {\n",
              "        text-align: right;\n",
              "    }\n",
              "</style>\n",
              "<table border=\"1\" class=\"dataframe\">\n",
              "  <thead>\n",
              "    <tr style=\"text-align: right;\">\n",
              "      <th></th>\n",
              "      <th>stamp</th>\n",
              "      <th>temp</th>\n",
              "      <th>hum</th>\n",
              "      <th>temp_ismissing</th>\n",
              "      <th>hum_ismissing</th>\n",
              "      <th>plug_ismissing</th>\n",
              "      <th>heater_ismissing</th>\n",
              "      <th>num_missing</th>\n",
              "    </tr>\n",
              "  </thead>\n",
              "  <tbody>\n",
              "    <tr>\n",
              "      <th>0</th>\n",
              "      <td>2020-10-14 15:22:31.111918</td>\n",
              "      <td>25.0</td>\n",
              "      <td>51.000000</td>\n",
              "      <td>False</td>\n",
              "      <td>False</td>\n",
              "      <td>False</td>\n",
              "      <td>False</td>\n",
              "      <td>0</td>\n",
              "    </tr>\n",
              "    <tr>\n",
              "      <th>1</th>\n",
              "      <td>2020-10-14 15:22:32.914186</td>\n",
              "      <td>26.0</td>\n",
              "      <td>48.000000</td>\n",
              "      <td>False</td>\n",
              "      <td>False</td>\n",
              "      <td>False</td>\n",
              "      <td>False</td>\n",
              "      <td>0</td>\n",
              "    </tr>\n",
              "    <tr>\n",
              "      <th>2</th>\n",
              "      <td>2020-10-14 15:22:37.486081</td>\n",
              "      <td>26.0</td>\n",
              "      <td>49.000000</td>\n",
              "      <td>False</td>\n",
              "      <td>False</td>\n",
              "      <td>False</td>\n",
              "      <td>False</td>\n",
              "      <td>0</td>\n",
              "    </tr>\n",
              "    <tr>\n",
              "      <th>3</th>\n",
              "      <td>2020-10-14 15:22:39.234348</td>\n",
              "      <td>26.0</td>\n",
              "      <td>48.000000</td>\n",
              "      <td>False</td>\n",
              "      <td>False</td>\n",
              "      <td>False</td>\n",
              "      <td>False</td>\n",
              "      <td>0</td>\n",
              "    </tr>\n",
              "    <tr>\n",
              "      <th>4</th>\n",
              "      <td>2020-10-14 15:22:41.081851</td>\n",
              "      <td>26.0</td>\n",
              "      <td>49.000000</td>\n",
              "      <td>False</td>\n",
              "      <td>False</td>\n",
              "      <td>False</td>\n",
              "      <td>False</td>\n",
              "      <td>0</td>\n",
              "    </tr>\n",
              "    <tr>\n",
              "      <th>...</th>\n",
              "      <td>...</td>\n",
              "      <td>...</td>\n",
              "      <td>...</td>\n",
              "      <td>...</td>\n",
              "      <td>...</td>\n",
              "      <td>...</td>\n",
              "      <td>...</td>\n",
              "      <td>...</td>\n",
              "    </tr>\n",
              "    <tr>\n",
              "      <th>8295724</th>\n",
              "      <td>2021-05-26 11:54:12.172836</td>\n",
              "      <td>26.4</td>\n",
              "      <td>29.700001</td>\n",
              "      <td>False</td>\n",
              "      <td>False</td>\n",
              "      <td>False</td>\n",
              "      <td>False</td>\n",
              "      <td>0</td>\n",
              "    </tr>\n",
              "    <tr>\n",
              "      <th>8295725</th>\n",
              "      <td>2021-05-26 11:54:13.796678</td>\n",
              "      <td>26.4</td>\n",
              "      <td>29.700001</td>\n",
              "      <td>False</td>\n",
              "      <td>False</td>\n",
              "      <td>False</td>\n",
              "      <td>False</td>\n",
              "      <td>0</td>\n",
              "    </tr>\n",
              "    <tr>\n",
              "      <th>8295726</th>\n",
              "      <td>2021-05-26 11:54:15.421471</td>\n",
              "      <td>26.4</td>\n",
              "      <td>29.700001</td>\n",
              "      <td>False</td>\n",
              "      <td>False</td>\n",
              "      <td>False</td>\n",
              "      <td>False</td>\n",
              "      <td>0</td>\n",
              "    </tr>\n",
              "    <tr>\n",
              "      <th>8295727</th>\n",
              "      <td>2021-05-26 11:54:17.093325</td>\n",
              "      <td>26.4</td>\n",
              "      <td>29.700001</td>\n",
              "      <td>False</td>\n",
              "      <td>False</td>\n",
              "      <td>False</td>\n",
              "      <td>False</td>\n",
              "      <td>0</td>\n",
              "    </tr>\n",
              "    <tr>\n",
              "      <th>8295728</th>\n",
              "      <td>2021-05-26 11:54:24.352203</td>\n",
              "      <td>26.4</td>\n",
              "      <td>29.700001</td>\n",
              "      <td>False</td>\n",
              "      <td>False</td>\n",
              "      <td>False</td>\n",
              "      <td>False</td>\n",
              "      <td>0</td>\n",
              "    </tr>\n",
              "  </tbody>\n",
              "</table>\n",
              "<p>8244531 rows × 8 columns</p>\n",
              "</div>"
            ],
            "text/plain": [
              "                             stamp  temp  ...  heater_ismissing  num_missing\n",
              "0       2020-10-14 15:22:31.111918  25.0  ...             False            0\n",
              "1       2020-10-14 15:22:32.914186  26.0  ...             False            0\n",
              "2       2020-10-14 15:22:37.486081  26.0  ...             False            0\n",
              "3       2020-10-14 15:22:39.234348  26.0  ...             False            0\n",
              "4       2020-10-14 15:22:41.081851  26.0  ...             False            0\n",
              "...                            ...   ...  ...               ...          ...\n",
              "8295724 2021-05-26 11:54:12.172836  26.4  ...             False            0\n",
              "8295725 2021-05-26 11:54:13.796678  26.4  ...             False            0\n",
              "8295726 2021-05-26 11:54:15.421471  26.4  ...             False            0\n",
              "8295727 2021-05-26 11:54:17.093325  26.4  ...             False            0\n",
              "8295728 2021-05-26 11:54:24.352203  26.4  ...             False            0\n",
              "\n",
              "[8244531 rows x 8 columns]"
            ]
          },
          "metadata": {
            "tags": []
          },
          "execution_count": 18
        }
      ]
    },
    {
      "cell_type": "markdown",
      "metadata": {
        "id": "QKjxAgU-Ky-Z"
      },
      "source": [
        "# logistic regression"
      ]
    },
    {
      "cell_type": "code",
      "metadata": {
        "colab": {
          "base_uri": "https://localhost:8080/"
        },
        "id": "_9PWgubKQciV",
        "outputId": "3459cbff-cffc-4b69-c8b2-84e1128c32a6"
      },
      "source": [
        "from sklearn.model_selection import TimeSeriesSplit\n",
        "X = data\n",
        "y = y_plug\n",
        "tscv = TimeSeriesSplit()\n",
        "print(tscv)\n",
        "for train_index, test_index in tscv.split(X):\n",
        "     print(\"TRAIN:\", train_index, \"TEST:\", test_index)"
      ],
      "execution_count": null,
      "outputs": [
        {
          "output_type": "stream",
          "text": [
            "TimeSeriesSplit(max_train_size=None, n_splits=5)\n",
            "TRAIN: [      0       1       2 ... 1374088 1374089 1374090] TEST: [1374091 1374092 1374093 ... 2748176 2748177 2748178]\n",
            "TRAIN: [      0       1       2 ... 2748176 2748177 2748178] TEST: [2748179 2748180 2748181 ... 4122264 4122265 4122266]\n",
            "TRAIN: [      0       1       2 ... 4122264 4122265 4122266] TEST: [4122267 4122268 4122269 ... 5496352 5496353 5496354]\n",
            "TRAIN: [      0       1       2 ... 5496352 5496353 5496354] TEST: [5496355 5496356 5496357 ... 6870440 6870441 6870442]\n",
            "TRAIN: [      0       1       2 ... 6870440 6870441 6870442] TEST: [6870443 6870444 6870445 ... 8244528 8244529 8244530]\n"
          ],
          "name": "stdout"
        }
      ]
    },
    {
      "cell_type": "markdown",
      "metadata": {
        "id": "7t5F8AKmTS5P"
      },
      "source": [
        "# FB prophet"
      ]
    },
    {
      "cell_type": "code",
      "metadata": {
        "id": "ajJ5ppWOMKKK"
      },
      "source": [
        "ds=X.stamp\n",
        "df=y.to_frame().join(ds)\n",
        "df.columns =['y', 'ds']"
      ],
      "execution_count": null,
      "outputs": []
    },
    {
      "cell_type": "code",
      "metadata": {
        "id": "EUV7RtFhV8FB"
      },
      "source": [
        "small_df=df.sample(frac=0.1, replace=True, random_state=1)"
      ],
      "execution_count": null,
      "outputs": []
    },
    {
      "cell_type": "code",
      "metadata": {
        "colab": {
          "base_uri": "https://localhost:8080/"
        },
        "id": "ixfWUaVKRRuc",
        "outputId": "ef9e5f37-06d8-4764-d905-d8dee5ee74a6"
      },
      "source": [
        "m = Prophet()\n",
        "m.fit(small_df)"
      ],
      "execution_count": null,
      "outputs": [
        {
          "output_type": "stream",
          "text": [
            "INFO:fbprophet:Disabling yearly seasonality. Run prophet with yearly_seasonality=True to override this.\n"
          ],
          "name": "stderr"
        },
        {
          "output_type": "execute_result",
          "data": {
            "text/plain": [
              "<fbprophet.forecaster.Prophet at 0x7f9e9aa0de90>"
            ]
          },
          "metadata": {
            "tags": []
          },
          "execution_count": 22
        }
      ]
    },
    {
      "cell_type": "code",
      "metadata": {
        "colab": {
          "base_uri": "https://localhost:8080/",
          "height": 163
        },
        "id": "gQhh2MiDTYaU",
        "outputId": "f4ae4b66-ee45-4617-e925-5535192a6819"
      },
      "source": [
        "fig = m.plot_components(forecast)\n"
      ],
      "execution_count": null,
      "outputs": [
        {
          "output_type": "error",
          "ename": "NameError",
          "evalue": "ignored",
          "traceback": [
            "\u001b[0;31m---------------------------------------------------------------------------\u001b[0m",
            "\u001b[0;31mNameError\u001b[0m                                 Traceback (most recent call last)",
            "\u001b[0;32m<ipython-input-23-6f9193ddab42>\u001b[0m in \u001b[0;36m<module>\u001b[0;34m()\u001b[0m\n\u001b[0;32m----> 1\u001b[0;31m \u001b[0mfig\u001b[0m \u001b[0;34m=\u001b[0m \u001b[0mm\u001b[0m\u001b[0;34m.\u001b[0m\u001b[0mplot_components\u001b[0m\u001b[0;34m(\u001b[0m\u001b[0mforecast\u001b[0m\u001b[0;34m)\u001b[0m\u001b[0;34m\u001b[0m\u001b[0;34m\u001b[0m\u001b[0m\n\u001b[0m",
            "\u001b[0;31mNameError\u001b[0m: name 'forecast' is not defined"
          ]
        }
      ]
    },
    {
      "cell_type": "code",
      "metadata": {
        "id": "0J_KQrRdd73q"
      },
      "source": [
        ""
      ],
      "execution_count": null,
      "outputs": []
    }
  ]
}